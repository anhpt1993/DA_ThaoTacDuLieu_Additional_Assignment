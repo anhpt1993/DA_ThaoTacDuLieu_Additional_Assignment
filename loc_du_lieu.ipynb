{
 "cells": [
  {
   "cell_type": "markdown",
   "id": "a444b4a9-a0fa-4502-ba5a-be5e4af2abe7",
   "metadata": {},
   "source": [
    "# 0. Import các thư viện"
   ]
  },
  {
   "cell_type": "code",
   "execution_count": 1,
   "id": "548f9964-02c3-49fa-baad-4043dd048b2e",
   "metadata": {},
   "outputs": [],
   "source": [
    "import pandas as pd\n",
    "import numpy as np\n",
    "import random"
   ]
  },
  {
   "cell_type": "markdown",
   "id": "4d10aa36-f5f1-4a67-94b2-64918a4ccb0c",
   "metadata": {},
   "source": [
    "# 1. Đọc dữ liệu từ file CSV"
   ]
  },
  {
   "cell_type": "code",
   "execution_count": 2,
   "id": "f29e4259-bd93-4233-821a-8d3c1a102cb7",
   "metadata": {},
   "outputs": [
    {
     "data": {
      "text/html": [
       "<div>\n",
       "<style scoped>\n",
       "    .dataframe tbody tr th:only-of-type {\n",
       "        vertical-align: middle;\n",
       "    }\n",
       "\n",
       "    .dataframe tbody tr th {\n",
       "        vertical-align: top;\n",
       "    }\n",
       "\n",
       "    .dataframe thead th {\n",
       "        text-align: right;\n",
       "    }\n",
       "</style>\n",
       "<table border=\"1\" class=\"dataframe\">\n",
       "  <thead>\n",
       "    <tr style=\"text-align: right;\">\n",
       "      <th></th>\n",
       "      <th>InvoiceNo</th>\n",
       "      <th>StockCode</th>\n",
       "      <th>Description</th>\n",
       "      <th>Quantity</th>\n",
       "      <th>InvoiceDate</th>\n",
       "      <th>UnitPrice</th>\n",
       "      <th>CustomerID</th>\n",
       "      <th>Country</th>\n",
       "    </tr>\n",
       "  </thead>\n",
       "  <tbody>\n",
       "    <tr>\n",
       "      <th>0</th>\n",
       "      <td>536365</td>\n",
       "      <td>85123A</td>\n",
       "      <td>WHITE HANGING HEART T-LIGHT HOLDER</td>\n",
       "      <td>6</td>\n",
       "      <td>12/1/2010 8:26</td>\n",
       "      <td>2.55</td>\n",
       "      <td>17850.0</td>\n",
       "      <td>United Kingdom</td>\n",
       "    </tr>\n",
       "    <tr>\n",
       "      <th>1</th>\n",
       "      <td>536365</td>\n",
       "      <td>71053</td>\n",
       "      <td>WHITE METAL LANTERN</td>\n",
       "      <td>6</td>\n",
       "      <td>12/1/2010 8:26</td>\n",
       "      <td>3.39</td>\n",
       "      <td>17850.0</td>\n",
       "      <td>United Kingdom</td>\n",
       "    </tr>\n",
       "    <tr>\n",
       "      <th>2</th>\n",
       "      <td>536365</td>\n",
       "      <td>84406B</td>\n",
       "      <td>CREAM CUPID HEARTS COAT HANGER</td>\n",
       "      <td>8</td>\n",
       "      <td>12/1/2010 8:26</td>\n",
       "      <td>2.75</td>\n",
       "      <td>17850.0</td>\n",
       "      <td>United Kingdom</td>\n",
       "    </tr>\n",
       "    <tr>\n",
       "      <th>3</th>\n",
       "      <td>536365</td>\n",
       "      <td>84029G</td>\n",
       "      <td>KNITTED UNION FLAG HOT WATER BOTTLE</td>\n",
       "      <td>6</td>\n",
       "      <td>12/1/2010 8:26</td>\n",
       "      <td>3.39</td>\n",
       "      <td>17850.0</td>\n",
       "      <td>United Kingdom</td>\n",
       "    </tr>\n",
       "    <tr>\n",
       "      <th>4</th>\n",
       "      <td>536365</td>\n",
       "      <td>84029E</td>\n",
       "      <td>RED WOOLLY HOTTIE WHITE HEART.</td>\n",
       "      <td>6</td>\n",
       "      <td>12/1/2010 8:26</td>\n",
       "      <td>3.39</td>\n",
       "      <td>17850.0</td>\n",
       "      <td>United Kingdom</td>\n",
       "    </tr>\n",
       "  </tbody>\n",
       "</table>\n",
       "</div>"
      ],
      "text/plain": [
       "  InvoiceNo StockCode                          Description  Quantity  \\\n",
       "0    536365    85123A   WHITE HANGING HEART T-LIGHT HOLDER         6   \n",
       "1    536365     71053                  WHITE METAL LANTERN         6   \n",
       "2    536365    84406B       CREAM CUPID HEARTS COAT HANGER         8   \n",
       "3    536365    84029G  KNITTED UNION FLAG HOT WATER BOTTLE         6   \n",
       "4    536365    84029E       RED WOOLLY HOTTIE WHITE HEART.         6   \n",
       "\n",
       "      InvoiceDate  UnitPrice  CustomerID         Country  \n",
       "0  12/1/2010 8:26       2.55     17850.0  United Kingdom  \n",
       "1  12/1/2010 8:26       3.39     17850.0  United Kingdom  \n",
       "2  12/1/2010 8:26       2.75     17850.0  United Kingdom  \n",
       "3  12/1/2010 8:26       3.39     17850.0  United Kingdom  \n",
       "4  12/1/2010 8:26       3.39     17850.0  United Kingdom  "
      ]
     },
     "execution_count": 2,
     "metadata": {},
     "output_type": "execute_result"
    }
   ],
   "source": [
    "df = pd.read_csv(\"https://s3.ap-southeast-1.amazonaws.com/learn.codegym.vn/media/public/2021/12/31011319/OnlineRetail.csv\", encoding = \"ISO-8859-1\")\n",
    "df.head()"
   ]
  },
  {
   "cell_type": "code",
   "execution_count": 3,
   "id": "1930250d-9f0d-4859-a7b9-f37f219b884a",
   "metadata": {},
   "outputs": [
    {
     "name": "stdout",
     "output_type": "stream",
     "text": [
      "<class 'pandas.core.frame.DataFrame'>\n",
      "RangeIndex: 541909 entries, 0 to 541908\n",
      "Data columns (total 8 columns):\n",
      " #   Column       Non-Null Count   Dtype  \n",
      "---  ------       --------------   -----  \n",
      " 0   InvoiceNo    541909 non-null  object \n",
      " 1   StockCode    541909 non-null  object \n",
      " 2   Description  540455 non-null  object \n",
      " 3   Quantity     541909 non-null  int64  \n",
      " 4   InvoiceDate  541909 non-null  object \n",
      " 5   UnitPrice    541909 non-null  float64\n",
      " 6   CustomerID   406829 non-null  float64\n",
      " 7   Country      541909 non-null  object \n",
      "dtypes: float64(2), int64(1), object(5)\n",
      "memory usage: 33.1+ MB\n"
     ]
    }
   ],
   "source": [
    "df.info()"
   ]
  },
  {
   "cell_type": "markdown",
   "id": "cf907bd8-5ffb-486b-9d0a-36a699738bf1",
   "metadata": {},
   "source": [
    "# 2. Bài tập show n dòng bất kỳ trong DataFrame"
   ]
  },
  {
   "cell_type": "code",
   "execution_count": 4,
   "id": "e1fa4293-f423-4b35-a2c5-9fb2384cd1c5",
   "metadata": {},
   "outputs": [
    {
     "name": "stdin",
     "output_type": "stream",
     "text": [
      "Mời nhập số tự nhiên 0 < n_size < 541909:  5\n"
     ]
    }
   ],
   "source": [
    "row = df.shape[0]\n",
    "# Nhập số dòng cần hiển thị\n",
    "try:\n",
    "    while True:\n",
    "        n_size = int(input(f\"Mời nhập số tự nhiên 0 < n_size < {row}: \"))\n",
    "        if 0 < n_size < df.shape[0]:\n",
    "            break\n",
    "        else:\n",
    "            print(f\"Giá trị ngoài khoảng cho phép 0 < n_size < {row}\")\n",
    "except ValueError:\n",
    "    print(\"Giá trị vừa nhập không phải là số nguyên!!! Mời nhập lại \\n\")"
   ]
  },
  {
   "cell_type": "code",
   "execution_count": 5,
   "id": "ba9fa321-7d04-40e1-a8ff-1d35fe39ea0c",
   "metadata": {},
   "outputs": [
    {
     "name": "stdout",
     "output_type": "stream",
     "text": [
      "363981 5\n"
     ]
    }
   ],
   "source": [
    "# Lấy giá trị ngẫu nhiên chỉ số bắt đầu\n",
    "idx = random.randint(0, row - n_size)\n",
    "print(idx, n_size)"
   ]
  },
  {
   "cell_type": "code",
   "execution_count": 6,
   "id": "6bc323ed-5eaf-41db-bb3b-e4c8f5ad8750",
   "metadata": {},
   "outputs": [
    {
     "data": {
      "text/html": [
       "<div>\n",
       "<style scoped>\n",
       "    .dataframe tbody tr th:only-of-type {\n",
       "        vertical-align: middle;\n",
       "    }\n",
       "\n",
       "    .dataframe tbody tr th {\n",
       "        vertical-align: top;\n",
       "    }\n",
       "\n",
       "    .dataframe thead th {\n",
       "        text-align: right;\n",
       "    }\n",
       "</style>\n",
       "<table border=\"1\" class=\"dataframe\">\n",
       "  <thead>\n",
       "    <tr style=\"text-align: right;\">\n",
       "      <th></th>\n",
       "      <th>InvoiceNo</th>\n",
       "      <th>StockCode</th>\n",
       "      <th>Description</th>\n",
       "      <th>Quantity</th>\n",
       "      <th>InvoiceDate</th>\n",
       "      <th>UnitPrice</th>\n",
       "      <th>CustomerID</th>\n",
       "      <th>Country</th>\n",
       "    </tr>\n",
       "  </thead>\n",
       "  <tbody>\n",
       "    <tr>\n",
       "      <th>363981</th>\n",
       "      <td>568593</td>\n",
       "      <td>22340</td>\n",
       "      <td>NOEL GARLAND PAINTED ZINC</td>\n",
       "      <td>24</td>\n",
       "      <td>9/28/2011 10:54</td>\n",
       "      <td>0.39</td>\n",
       "      <td>13988.0</td>\n",
       "      <td>United Kingdom</td>\n",
       "    </tr>\n",
       "    <tr>\n",
       "      <th>363982</th>\n",
       "      <td>568593</td>\n",
       "      <td>85099B</td>\n",
       "      <td>JUMBO BAG RED RETROSPOT</td>\n",
       "      <td>10</td>\n",
       "      <td>9/28/2011 10:54</td>\n",
       "      <td>2.08</td>\n",
       "      <td>13988.0</td>\n",
       "      <td>United Kingdom</td>\n",
       "    </tr>\n",
       "    <tr>\n",
       "      <th>363983</th>\n",
       "      <td>568593</td>\n",
       "      <td>23343</td>\n",
       "      <td>JUMBO BAG VINTAGE CHRISTMAS</td>\n",
       "      <td>10</td>\n",
       "      <td>9/28/2011 10:54</td>\n",
       "      <td>2.08</td>\n",
       "      <td>13988.0</td>\n",
       "      <td>United Kingdom</td>\n",
       "    </tr>\n",
       "    <tr>\n",
       "      <th>363984</th>\n",
       "      <td>568593</td>\n",
       "      <td>23360</td>\n",
       "      <td>SET 8 CANDLES VINTAGE DOILY</td>\n",
       "      <td>12</td>\n",
       "      <td>9/28/2011 10:54</td>\n",
       "      <td>1.95</td>\n",
       "      <td>13988.0</td>\n",
       "      <td>United Kingdom</td>\n",
       "    </tr>\n",
       "    <tr>\n",
       "      <th>363985</th>\n",
       "      <td>568593</td>\n",
       "      <td>22300</td>\n",
       "      <td>COFFEE MUG DOG + BALL DESIGN</td>\n",
       "      <td>6</td>\n",
       "      <td>9/28/2011 10:54</td>\n",
       "      <td>2.55</td>\n",
       "      <td>13988.0</td>\n",
       "      <td>United Kingdom</td>\n",
       "    </tr>\n",
       "  </tbody>\n",
       "</table>\n",
       "</div>"
      ],
      "text/plain": [
       "       InvoiceNo StockCode                   Description  Quantity  \\\n",
       "363981    568593     22340    NOEL GARLAND PAINTED ZINC         24   \n",
       "363982    568593    85099B       JUMBO BAG RED RETROSPOT        10   \n",
       "363983    568593     23343  JUMBO BAG VINTAGE CHRISTMAS         10   \n",
       "363984    568593     23360   SET 8 CANDLES VINTAGE DOILY        12   \n",
       "363985    568593     22300  COFFEE MUG DOG + BALL DESIGN         6   \n",
       "\n",
       "            InvoiceDate  UnitPrice  CustomerID         Country  \n",
       "363981  9/28/2011 10:54       0.39     13988.0  United Kingdom  \n",
       "363982  9/28/2011 10:54       2.08     13988.0  United Kingdom  \n",
       "363983  9/28/2011 10:54       2.08     13988.0  United Kingdom  \n",
       "363984  9/28/2011 10:54       1.95     13988.0  United Kingdom  \n",
       "363985  9/28/2011 10:54       2.55     13988.0  United Kingdom  "
      ]
     },
     "execution_count": 6,
     "metadata": {},
     "output_type": "execute_result"
    }
   ],
   "source": [
    "# Hiển thị n_size dòng bắt đầu từ vị trí idx\n",
    "df[idx:idx+n_size]"
   ]
  },
  {
   "cell_type": "code",
   "execution_count": 7,
   "id": "20c80bdf-bb39-4a76-8362-b7339b98db48",
   "metadata": {},
   "outputs": [
    {
     "name": "stdout",
     "output_type": "stream",
     "text": [
      "<class 'pandas.core.frame.DataFrame'>\n",
      "RangeIndex: 5 entries, 363981 to 363985\n",
      "Data columns (total 8 columns):\n",
      " #   Column       Non-Null Count  Dtype  \n",
      "---  ------       --------------  -----  \n",
      " 0   InvoiceNo    5 non-null      object \n",
      " 1   StockCode    5 non-null      object \n",
      " 2   Description  5 non-null      object \n",
      " 3   Quantity     5 non-null      int64  \n",
      " 4   InvoiceDate  5 non-null      object \n",
      " 5   UnitPrice    5 non-null      float64\n",
      " 6   CustomerID   5 non-null      float64\n",
      " 7   Country      5 non-null      object \n",
      "dtypes: float64(2), int64(1), object(5)\n",
      "memory usage: 452.0+ bytes\n"
     ]
    }
   ],
   "source": [
    "df[idx:idx+n_size].info()"
   ]
  }
 ],
 "metadata": {
  "kernelspec": {
   "display_name": "Python 3 (ipykernel)",
   "language": "python",
   "name": "python3"
  },
  "language_info": {
   "codemirror_mode": {
    "name": "ipython",
    "version": 3
   },
   "file_extension": ".py",
   "mimetype": "text/x-python",
   "name": "python",
   "nbconvert_exporter": "python",
   "pygments_lexer": "ipython3",
   "version": "3.10.1"
  }
 },
 "nbformat": 4,
 "nbformat_minor": 5
}
